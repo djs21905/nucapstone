{
 "metadata": {
  "language_info": {
   "codemirror_mode": {
    "name": "ipython",
    "version": 3
   },
   "file_extension": ".py",
   "mimetype": "text/x-python",
   "name": "python",
   "nbconvert_exporter": "python",
   "pygments_lexer": "ipython3",
   "version": "3.8.2-final"
  },
  "orig_nbformat": 2,
  "kernelspec": {
   "name": "python38264bit10acd81da64845c583c0508b7d44a386",
   "display_name": "Python 3.8.2 64-bit",
   "language": "python"
  }
 },
 "nbformat": 4,
 "nbformat_minor": 2,
 "cells": [
  {
   "source": [
    "# Scorecard Review\n",
    "Date: 1/30/2021"
   ],
   "cell_type": "markdown",
   "metadata": {}
  },
  {
   "source": [
    "## About this Notebook\n",
    "This notebook is review and adjust the scorecard for the publications as needed."
   ],
   "cell_type": "markdown",
   "metadata": {}
  },
  {
   "source": [
    "## Adminstrative Activites"
   ],
   "cell_type": "markdown",
   "metadata": {}
  },
  {
   "source": [
    "### Import Packages"
   ],
   "cell_type": "markdown",
   "metadata": {}
  },
  {
   "cell_type": "code",
   "execution_count": 1,
   "metadata": {},
   "outputs": [],
   "source": [
    "import os, json\n",
    "#HTML Display\n",
    "from bin.html_functions import ez_display as d"
   ]
  },
  {
   "source": [
    "### Variables"
   ],
   "cell_type": "markdown",
   "metadata": {}
  },
  {
   "cell_type": "code",
   "execution_count": 2,
   "metadata": {},
   "outputs": [],
   "source": [
    "data_folder = \"data\"\n",
    "publication_scorecard_filename = \"publication_scorecard.json\"\n",
    "publication_scorecard_filepath = os.path.join(data_folder,publication_scorecard_filename)"
   ]
  },
  {
   "cell_type": "code",
   "execution_count": 3,
   "metadata": {},
   "outputs": [
    {
     "output_type": "display_data",
     "data": {
      "text/plain": "<IPython.core.display.HTML object>",
      "text/html": "<b>Current Python Version Used:</b> Python 3.8.2"
     },
     "metadata": {}
    }
   ],
   "source": [
    "d(\"<b>Current Python Version Used:</b> Python \" +  sys.version.split('(')[0].strip())"
   ]
  },
  {
   "source": [
    "## View Scorecard\n",
    "For my sanity it will be as follows:\n",
    "* Far Left = -10\n",
    "* Left = -5\n",
    "* Center = 0\n",
    "* Right = 5\n",
    "* Far Right = 10   \n",
    "\n",
    "Source: https://www.allsides.com/media-bias/media-bias-ratings"
   ],
   "cell_type": "markdown",
   "metadata": {}
  },
  {
   "cell_type": "code",
   "execution_count": 4,
   "metadata": {},
   "outputs": [],
   "source": [
    "with open(publication_scorecard_filepath) as fp:\n",
    "    scorecard = json.load(fp)"
   ]
  },
  {
   "cell_type": "code",
   "execution_count": 5,
   "metadata": {},
   "outputs": [
    {
     "output_type": "stream",
     "name": "stdout",
     "text": [
      "New York Times: -5\nBreitbart: 10\nCNN: -5\nBusiness Insider: 0\nAtlantic: -5\nFox News: 5\nTalking Points Memo: -5\nBuzzfeed News: -10\nNational Review: 10\nNew York Post: 5\nGuardian: -5\nNPR: 0\nReuters: 0\nVox: -10\nWashington Post: -5\n"
     ]
    }
   ],
   "source": [
    "for k,v in scorecard.items():\n",
    "    print(f\"{k}: {v}\")"
   ]
  },
  {
   "source": [
    "## Adding a New Value to Scorecard"
   ],
   "cell_type": "markdown",
   "metadata": {}
  },
  {
   "cell_type": "code",
   "execution_count": 6,
   "metadata": {},
   "outputs": [],
   "source": [
    "def add_value_to_scorecard(publication,political_spectrum):\n",
    "    scorecard[publication] = political_spectrum"
   ]
  },
  {
   "cell_type": "code",
   "execution_count": 7,
   "metadata": {},
   "outputs": [
    {
     "output_type": "error",
     "ename": "TypeError",
     "evalue": "add_value_to_scorecard() missing 2 required positional arguments: 'publication' and 'political_spectrum'",
     "traceback": [
      "\u001b[1;31m---------------------------------------------------------------------------\u001b[0m",
      "\u001b[1;31mTypeError\u001b[0m                                 Traceback (most recent call last)",
      "\u001b[1;32m<ipython-input-7-699a25fb4051>\u001b[0m in \u001b[0;36m<module>\u001b[1;34m\u001b[0m\n\u001b[1;32m----> 1\u001b[1;33m \u001b[0madd_value_to_scorecard\u001b[0m\u001b[1;33m(\u001b[0m\u001b[1;33m)\u001b[0m\u001b[1;33m\u001b[0m\u001b[1;33m\u001b[0m\u001b[0m\n\u001b[0m",
      "\u001b[1;31mTypeError\u001b[0m: add_value_to_scorecard() missing 2 required positional arguments: 'publication' and 'political_spectrum'"
     ]
    }
   ],
   "source": [
    "add_value_to_scorecard()"
   ]
  },
  {
   "source": [
    "## Saving Updated Scorecard"
   ],
   "cell_type": "markdown",
   "metadata": {}
  },
  {
   "cell_type": "code",
   "execution_count": 21,
   "metadata": {},
   "outputs": [],
   "source": [
    "def save_scorecard():\n",
    "    os.remove(publication_scorecard_filepath)\n",
    "    with open(publication_scorecard_filepath,'w') as fp:\n",
    "        json.dump(scorecard,fp)"
   ]
  },
  {
   "cell_type": "code",
   "execution_count": 22,
   "metadata": {},
   "outputs": [],
   "source": [
    "save_scorecard()"
   ]
  }
 ]
}