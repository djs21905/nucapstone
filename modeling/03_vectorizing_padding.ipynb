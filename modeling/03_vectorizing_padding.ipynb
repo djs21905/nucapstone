{
 "cells": [
  {
   "cell_type": "markdown",
   "metadata": {},
   "source": [
    "# Vectorizing and Preparing for Training\n",
    "\n",
    "Date: 01/30/2021"
   ]
  },
  {
   "cell_type": "markdown",
   "metadata": {},
   "source": [
    "## About this Notebook\n",
    "This is developing the train and test data for the model"
   ]
  },
  {
   "cell_type": "markdown",
   "metadata": {},
   "source": [
    "## Adminstrative Activity"
   ]
  },
  {
   "cell_type": "markdown",
   "metadata": {},
   "source": [
    "### Import Packages"
   ]
  },
  {
   "cell_type": "code",
   "execution_count": 1,
   "metadata": {},
   "outputs": [],
   "source": [
    "import os, json, sys\n",
    "from packaging import version\n",
    "\n",
    "import pandas as pd\n",
    "import numpy as np\n",
    "import datetime\n",
    "\n",
    "import re, string #Text cleaning\n",
    "\n",
    "# TensorFlow and tf.keras\n",
    "import tensorflow as tf\n",
    "from tensorflow import keras\n",
    "\n",
    "from sklearn.model_selection import train_test_split #train_test_split\n",
    "\n",
    "#Custom Code\n",
    "from bin.text_cleaner import text_cleaner\n",
    "from bin.html_functions import ez_display as d\n",
    "from bin.plot_performance_graph import plot_performance\n",
    "from bin.word_vectorizer import word_vectorizer_columns"
   ]
  },
  {
   "cell_type": "markdown",
   "metadata": {},
   "source": [
    "### Python Version"
   ]
  },
  {
   "cell_type": "code",
   "execution_count": 2,
   "metadata": {},
   "outputs": [
    {
     "output_type": "display_data",
     "data": {
      "text/plain": "<IPython.core.display.HTML object>",
      "text/html": "<b>Current Python Version Used:</b> Python 3.8.2"
     },
     "metadata": {}
    },
    {
     "output_type": "display_data",
     "data": {
      "text/plain": "<IPython.core.display.HTML object>",
      "text/html": "This notebook requires TensorFlow 2.0 or above"
     },
     "metadata": {}
    },
    {
     "output_type": "display_data",
     "data": {
      "text/plain": "<IPython.core.display.HTML object>",
      "text/html": "<b>Current TensorFlow version: </b>2.2.0"
     },
     "metadata": {}
    },
    {
     "output_type": "display_data",
     "data": {
      "text/plain": "<IPython.core.display.HTML object>",
      "text/html": "<b>Current Keras version: </b>2.3.0-tf"
     },
     "metadata": {}
    }
   ],
   "source": [
    "d(\"<b>Current Python Version Used:</b> Python \" +  sys.version.split('(')[0].strip())\n",
    "d(\"This notebook requires TensorFlow 2.0 or above\")\n",
    "d(\"<b>Current TensorFlow version: </b>\"+ tf.__version__)\n",
    "d(\"<b>Current Keras version: </b>\"+ keras.__version__)\n",
    "assert version.parse(tf.__version__).release[0] >=2"
   ]
  },
  {
   "cell_type": "markdown",
   "metadata": {},
   "source": [
    "### Establish Experiment Reproducibility"
   ]
  },
  {
   "cell_type": "code",
   "execution_count": 3,
   "metadata": {},
   "outputs": [],
   "source": [
    "keras.backend.clear_session()\n",
    "np.random.seed(45)\n",
    "tf.random.set_seed(45)"
   ]
  },
  {
   "cell_type": "markdown",
   "metadata": {},
   "source": [
    "### Variables"
   ]
  },
  {
   "cell_type": "code",
   "execution_count": 4,
   "metadata": {},
   "outputs": [],
   "source": [
    "data_folder = \"data\"\n",
    "raw_data_folder = os.path.join(data_folder,'RAW')\n",
    "images_folder = \"images\"\n",
    "model_summary_folder = os.path.join(images_folder,\"model_summary\")\n",
    "model_folder = \"models\"\n",
    "graph_folder = os.path.join(images_folder,\"graphs\")\n",
    "word_freq_folder = os.path.join(data_folder,\"word_frequency\")\n",
    "padded_folder = os.path.join(data_folder,\"padded\")\n",
    "cleaned_data_folder = os.path.join(data_folder,'cleaned')\n",
    "cleaned_data_filename = \"articles.feather\"\n",
    "cleaned_data_filepath = os.path.join(cleaned_data_folder,cleaned_data_filename)\n",
    "article_filenames = ['articles1.csv', 'articles2.csv', 'articles3.csv']\n",
    "publication_scorecard_filename = \"publication_scorecard.json\"\n",
    "publication_scorecard_filepath = os.path.join(data_folder,publication_scorecard_filename)\n",
    "text_cols = ['content','simple_clean','stopwords_clean','lemming_clean']"
   ]
  },
  {
   "cell_type": "code",
   "execution_count": 5,
   "metadata": {},
   "outputs": [],
   "source": [
    "if os.path.isdir(padded_folder) == False:\n",
    "    os.mkdir(padded_folder)"
   ]
  },
  {
   "cell_type": "markdown",
   "metadata": {},
   "source": [
    "## Pulling Data"
   ]
  },
  {
   "cell_type": "code",
   "execution_count": 6,
   "metadata": {},
   "outputs": [
    {
     "output_type": "stream",
     "name": "stdout",
     "text": [
      "Wall time: 1.98 s\n"
     ]
    }
   ],
   "source": [
    "%%time\n",
    "df = pd.read_feather(cleaned_data_filepath)"
   ]
  },
  {
   "cell_type": "code",
   "execution_count": 7,
   "metadata": {},
   "outputs": [],
   "source": [
    "with open(publication_scorecard_filepath) as fp:\n",
    "    scorecard = json.load(fp)"
   ]
  },
  {
   "source": [
    "## Organizing Data for Model"
   ],
   "cell_type": "markdown",
   "metadata": {}
  },
  {
   "source": [
    "#### Splitting text"
   ],
   "cell_type": "markdown",
   "metadata": {}
  },
  {
   "cell_type": "code",
   "execution_count": 10,
   "metadata": {},
   "outputs": [],
   "source": [
    "for col in text_cols:\n",
    "    df[col] = df[col].str.split()"
   ]
  },
  {
   "cell_type": "code",
   "execution_count": 11,
   "metadata": {
    "scrolled": false
   },
   "outputs": [
    {
     "output_type": "display_data",
     "data": {
      "text/plain": "<IPython.core.display.HTML object>",
      "text/html": "<b>Dataframe Shape:</b> (142570, 13)"
     },
     "metadata": {}
    },
    {
     "output_type": "execute_result",
     "data": {
      "text/plain": [
       "      id                                              title     publication  \\\n",
       "0  17283  House Republicans Fret About Winning Their Hea...  New York Times   \n",
       "1  17284  Rift Between Officers and Residents as Killing...  New York Times   \n",
       "2  17285  Tyrus Wong, ‘Bambi’ Artist Thwarted by Racial ...  New York Times   \n",
       "3  17286  Among Deaths in 2016, a Heavy Toll in Pop Musi...  New York Times   \n",
       "4  17287  Kim Jong-un Says North Korea Is Preparing to T...  New York Times   \n",
       "\n",
       "                          author        date    year  month   url  \\\n",
       "0                     Carl Hulse  2016-12-31  2016.0   12.0  None   \n",
       "1  Benjamin Mueller and Al Baker  2017-06-19  2017.0    6.0  None   \n",
       "2                   Margalit Fox  2017-01-06  2017.0    1.0  None   \n",
       "3               William McDonald  2017-04-10  2017.0    4.0  None   \n",
       "4                  Choe Sang-Hun  2017-01-02  2017.0    1.0  None   \n",
       "\n",
       "                                             content  \\\n",
       "0  [WASHINGTON, —, Congressional, Republicans, ha...   \n",
       "1  [After, the, bullet, shells, get, counted,, th...   \n",
       "2  [When, Walt, Disney’s, “Bambi”, opened, in, 19...   \n",
       "3  [Death, may, be, the, great, equalizer,, but, ...   \n",
       "4  [SEOUL,, South, Korea, —, North, Korea’s, lead...   \n",
       "\n",
       "                                        simple_clean  \\\n",
       "0  [WASHINGTON, Congressional, Republicans, fear,...   \n",
       "1  [After, bullet, shells, counted, blood, dries,...   \n",
       "2  [When, Walt, Disneys, Bambi, opened, 1942, cri...   \n",
       "3  [Death, great, equalizer, necessarily, evenhan...   \n",
       "4  [SEOUL, South, Korea, North, Koreas, leader, s...   \n",
       "\n",
       "                                     stopwords_clean  \\\n",
       "0  [WASHINGTON, Congressional, Republicans, fear,...   \n",
       "1  [After, bullet, shell, counted, blood, dry, vo...   \n",
       "2  [When, Walt, Disneys, Bambi, opened, 1942, cri...   \n",
       "3  [Death, great, equalizer, necessarily, evenhan...   \n",
       "4  [SEOUL, South, Korea, North, Koreas, leader, s...   \n",
       "\n",
       "                                       lemming_clean  political_score  \n",
       "0  [WASHINGTON, Congressional, Republicans, fear,...             -0.5  \n",
       "1  [After, bullet, shell, counted, blood, dry, vo...             -0.5  \n",
       "2  [When, Walt, Disneys, Bambi, opened, 1942, cri...             -0.5  \n",
       "3  [Death, great, equalizer, necessarily, evenhan...             -0.5  \n",
       "4  [SEOUL, South, Korea, North, Koreas, leader, s...             -0.5  "
      ],
      "text/html": "<div>\n<style scoped>\n    .dataframe tbody tr th:only-of-type {\n        vertical-align: middle;\n    }\n\n    .dataframe tbody tr th {\n        vertical-align: top;\n    }\n\n    .dataframe thead th {\n        text-align: right;\n    }\n</style>\n<table border=\"1\" class=\"dataframe\">\n  <thead>\n    <tr style=\"text-align: right;\">\n      <th></th>\n      <th>id</th>\n      <th>title</th>\n      <th>publication</th>\n      <th>author</th>\n      <th>date</th>\n      <th>year</th>\n      <th>month</th>\n      <th>url</th>\n      <th>content</th>\n      <th>simple_clean</th>\n      <th>stopwords_clean</th>\n      <th>lemming_clean</th>\n      <th>political_score</th>\n    </tr>\n  </thead>\n  <tbody>\n    <tr>\n      <th>0</th>\n      <td>17283</td>\n      <td>House Republicans Fret About Winning Their Hea...</td>\n      <td>New York Times</td>\n      <td>Carl Hulse</td>\n      <td>2016-12-31</td>\n      <td>2016.0</td>\n      <td>12.0</td>\n      <td>None</td>\n      <td>[WASHINGTON, —, Congressional, Republicans, ha...</td>\n      <td>[WASHINGTON, Congressional, Republicans, fear,...</td>\n      <td>[WASHINGTON, Congressional, Republicans, fear,...</td>\n      <td>[WASHINGTON, Congressional, Republicans, fear,...</td>\n      <td>-0.5</td>\n    </tr>\n    <tr>\n      <th>1</th>\n      <td>17284</td>\n      <td>Rift Between Officers and Residents as Killing...</td>\n      <td>New York Times</td>\n      <td>Benjamin Mueller and Al Baker</td>\n      <td>2017-06-19</td>\n      <td>2017.0</td>\n      <td>6.0</td>\n      <td>None</td>\n      <td>[After, the, bullet, shells, get, counted,, th...</td>\n      <td>[After, bullet, shells, counted, blood, dries,...</td>\n      <td>[After, bullet, shell, counted, blood, dry, vo...</td>\n      <td>[After, bullet, shell, counted, blood, dry, vo...</td>\n      <td>-0.5</td>\n    </tr>\n    <tr>\n      <th>2</th>\n      <td>17285</td>\n      <td>Tyrus Wong, ‘Bambi’ Artist Thwarted by Racial ...</td>\n      <td>New York Times</td>\n      <td>Margalit Fox</td>\n      <td>2017-01-06</td>\n      <td>2017.0</td>\n      <td>1.0</td>\n      <td>None</td>\n      <td>[When, Walt, Disney’s, “Bambi”, opened, in, 19...</td>\n      <td>[When, Walt, Disneys, Bambi, opened, 1942, cri...</td>\n      <td>[When, Walt, Disneys, Bambi, opened, 1942, cri...</td>\n      <td>[When, Walt, Disneys, Bambi, opened, 1942, cri...</td>\n      <td>-0.5</td>\n    </tr>\n    <tr>\n      <th>3</th>\n      <td>17286</td>\n      <td>Among Deaths in 2016, a Heavy Toll in Pop Musi...</td>\n      <td>New York Times</td>\n      <td>William McDonald</td>\n      <td>2017-04-10</td>\n      <td>2017.0</td>\n      <td>4.0</td>\n      <td>None</td>\n      <td>[Death, may, be, the, great, equalizer,, but, ...</td>\n      <td>[Death, great, equalizer, necessarily, evenhan...</td>\n      <td>[Death, great, equalizer, necessarily, evenhan...</td>\n      <td>[Death, great, equalizer, necessarily, evenhan...</td>\n      <td>-0.5</td>\n    </tr>\n    <tr>\n      <th>4</th>\n      <td>17287</td>\n      <td>Kim Jong-un Says North Korea Is Preparing to T...</td>\n      <td>New York Times</td>\n      <td>Choe Sang-Hun</td>\n      <td>2017-01-02</td>\n      <td>2017.0</td>\n      <td>1.0</td>\n      <td>None</td>\n      <td>[SEOUL,, South, Korea, —, North, Korea’s, lead...</td>\n      <td>[SEOUL, South, Korea, North, Koreas, leader, s...</td>\n      <td>[SEOUL, South, Korea, North, Koreas, leader, s...</td>\n      <td>[SEOUL, South, Korea, North, Koreas, leader, s...</td>\n      <td>-0.5</td>\n    </tr>\n  </tbody>\n</table>\n</div>"
     },
     "metadata": {},
     "execution_count": 11
    }
   ],
   "source": [
    "d('<b>Dataframe Shape:</b> '+str(df.shape))\n",
    "df.head()"
   ]
  },
  {
   "cell_type": "markdown",
   "metadata": {},
   "source": [
    "## Top 200k words"
   ]
  },
  {
   "cell_type": "code",
   "execution_count": 12,
   "metadata": {},
   "outputs": [],
   "source": [
    "vocab_size = 200000\n",
    "word_map = {}\n",
    "for col in text_cols:\n",
    "    word_freq_fn = col + \"_word_frequency.feather\"\n",
    "    word_freq_df = pd.read_feather(os.path.join(word_freq_folder,word_freq_fn))\n",
    "    word_freq_df.index += 1 #0 is for padding\n",
    "    word_freq_100k_df = word_freq_df[:vocab_size] #Top X words\n",
    "    word_dict = word_freq_100k_df.to_dict()['Words']\n",
    "    word_dict = dict([(v,k) for k,v in word_dict.items()])\n",
    "    word_map[col] = word_dict"
   ]
  },
  {
   "cell_type": "code",
   "execution_count": 13,
   "metadata": {},
   "outputs": [],
   "source": [
    "#Saving Word Map\n",
    "for k,v in word_map.items():\n",
    "    word_map_json = json.dumps(v)\n",
    "    with open(os.path.join(word_freq_folder,f\"{k}_word_map_dict.json\"),'w') as f:\n",
    "        f.write(word_map_json)"
   ]
  },
  {
   "cell_type": "markdown",
   "metadata": {},
   "source": [
    "## Vectorizer Words"
   ]
  },
  {
   "cell_type": "code",
   "execution_count": 14,
   "metadata": {},
   "outputs": [
    {
     "output_type": "stream",
     "name": "stdout",
     "text": [
      "Wall time: 47.4 s\n"
     ]
    }
   ],
   "source": [
    "%%time\n",
    "for col in text_cols:\n",
    "    df[col] = df[col].apply(lambda x: word_vectorizer_columns(x,col,word_map))"
   ]
  },
  {
   "cell_type": "code",
   "execution_count": 15,
   "metadata": {},
   "outputs": [
    {
     "output_type": "execute_result",
     "data": {
      "text/plain": [
       "      id                                              title     publication  \\\n",
       "0  17283  House Republicans Fret About Winning Their Hea...  New York Times   \n",
       "\n",
       "       author        date    year  month   url  \\\n",
       "0  Carl Hulse  2016-12-31  2016.0   12.0  None   \n",
       "\n",
       "                                             content  \\\n",
       "0  [2542, 19, 2842, 257, 18, 4, 89, 1059, 57, 16,...   \n",
       "\n",
       "                                        simple_clean  \\\n",
       "0  [2181, 2560, 102, 736, 271, 119, 206, 1077, 37...   \n",
       "\n",
       "                                     stopwords_clean  \\\n",
       "0  [2124, 2448, 127, 535, 45, 150, 218, 835, 49, ...   \n",
       "\n",
       "                                       lemming_clean  political_score  \n",
       "0  [2124, 2448, 127, 535, 45, 150, 218, 835, 49, ...             -0.5  "
      ],
      "text/html": "<div>\n<style scoped>\n    .dataframe tbody tr th:only-of-type {\n        vertical-align: middle;\n    }\n\n    .dataframe tbody tr th {\n        vertical-align: top;\n    }\n\n    .dataframe thead th {\n        text-align: right;\n    }\n</style>\n<table border=\"1\" class=\"dataframe\">\n  <thead>\n    <tr style=\"text-align: right;\">\n      <th></th>\n      <th>id</th>\n      <th>title</th>\n      <th>publication</th>\n      <th>author</th>\n      <th>date</th>\n      <th>year</th>\n      <th>month</th>\n      <th>url</th>\n      <th>content</th>\n      <th>simple_clean</th>\n      <th>stopwords_clean</th>\n      <th>lemming_clean</th>\n      <th>political_score</th>\n    </tr>\n  </thead>\n  <tbody>\n    <tr>\n      <th>0</th>\n      <td>17283</td>\n      <td>House Republicans Fret About Winning Their Hea...</td>\n      <td>New York Times</td>\n      <td>Carl Hulse</td>\n      <td>2016-12-31</td>\n      <td>2016.0</td>\n      <td>12.0</td>\n      <td>None</td>\n      <td>[2542, 19, 2842, 257, 18, 4, 89, 1059, 57, 16,...</td>\n      <td>[2181, 2560, 102, 736, 271, 119, 206, 1077, 37...</td>\n      <td>[2124, 2448, 127, 535, 45, 150, 218, 835, 49, ...</td>\n      <td>[2124, 2448, 127, 535, 45, 150, 218, 835, 49, ...</td>\n      <td>-0.5</td>\n    </tr>\n  </tbody>\n</table>\n</div>"
     },
     "metadata": {},
     "execution_count": 15
    }
   ],
   "source": [
    "df.head(1)"
   ]
  },
  {
   "cell_type": "code",
   "execution_count": 16,
   "metadata": {},
   "outputs": [
    {
     "output_type": "display_data",
     "data": {
      "text/plain": "<IPython.core.display.HTML object>",
      "text/html": "content: 24"
     },
     "metadata": {}
    },
    {
     "output_type": "display_data",
     "data": {
      "text/plain": "<IPython.core.display.HTML object>",
      "text/html": "simple_clean: 108"
     },
     "metadata": {}
    },
    {
     "output_type": "display_data",
     "data": {
      "text/plain": "<IPython.core.display.HTML object>",
      "text/html": "stopwords_clean: 108"
     },
     "metadata": {}
    },
    {
     "output_type": "display_data",
     "data": {
      "text/plain": "<IPython.core.display.HTML object>",
      "text/html": "lemming_clean: 108"
     },
     "metadata": {}
    }
   ],
   "source": [
    "for col in text_cols:\n",
    "    empty = df[df[col].str.len()==0]\n",
    "    d(f'{col}: {len(empty)}')"
   ]
  },
  {
   "cell_type": "code",
   "execution_count": 17,
   "metadata": {},
   "outputs": [
    {
     "output_type": "display_data",
     "data": {
      "text/plain": "<IPython.core.display.HTML object>",
      "text/html": "<b>Size of Dataframe after removing empty rows:</b> 142462"
     },
     "metadata": {}
    }
   ],
   "source": [
    "for col in text_cols:\n",
    "    empty_index = df[df[col].str.len()==0].index\n",
    "    df.drop(empty_index,inplace=True)\n",
    "d(f'<b>Size of Dataframe after removing empty rows:</b> {len(df)}')"
   ]
  },
  {
   "cell_type": "markdown",
   "metadata": {},
   "source": [
    "## Saving Vectorized DF"
   ]
  },
  {
   "cell_type": "code",
   "execution_count": 18,
   "metadata": {},
   "outputs": [],
   "source": [
    "#Saving New Comments DF\n",
    "df.reset_index(inplace=True)\n",
    "fn = os.path.join(cleaned_data_folder,\"articles_vectorized.feather\")\n",
    "df.to_feather(path=fn)"
   ]
  },
  {
   "cell_type": "markdown",
   "metadata": {},
   "source": [
    "## Train-Test Split"
   ]
  },
  {
   "cell_type": "code",
   "execution_count": 19,
   "metadata": {},
   "outputs": [
    {
     "output_type": "display_data",
     "data": {
      "text/plain": "<IPython.core.display.HTML object>",
      "text/html": "<b> Train Shape:</b> (113969, 14)&nbsp;&nbsp;&nbsp;&nbsp;&nbsp;&nbsp;<b> Test Shape:</b> (28493, 14)"
     },
     "metadata": {}
    }
   ],
   "source": [
    "X_train, X_test, y_train, y_test = train_test_split(df,df['political_score'], test_size=0.2, random_state = 45)\n",
    "d('<b> Train Shape:</b> '+str(X_train.shape)+'&nbsp;'*6+\n",
    "  '<b> Test Shape:</b> '+str(X_test.shape))"
   ]
  },
  {
   "cell_type": "markdown",
   "metadata": {},
   "source": [
    "### Analyzing Training/Test Data"
   ]
  },
  {
   "cell_type": "code",
   "execution_count": 20,
   "metadata": {},
   "outputs": [],
   "source": [
    "frame_storage = {}\n",
    "for name,data in zip(['X_train','X_test'],[X_train,X_test]):\n",
    "    frame_storage[name] = {}\n",
    "    for col in text_cols:\n",
    "        frame_storage[name][col] = {}\n",
    "        word_len = data[col].str.len().describe().to_frame().round(2)\n",
    "        frame_storage[name][col]['Word Length'] = word_len\n",
    "        review_word_size = sum(data[col].str.len())\n",
    "        review_vocab_size = list(set([word for article in data[col] for word in article]))\n",
    "        frame_storage[name][col]['Unique Words'] = len(review_vocab_size)\n",
    "        frame_storage[name][col]['Total Words'] = review_word_size"
   ]
  },
  {
   "cell_type": "markdown",
   "metadata": {},
   "source": [
    "### Training"
   ]
  },
  {
   "cell_type": "code",
   "execution_count": 21,
   "metadata": {},
   "outputs": [
    {
     "output_type": "display_data",
     "data": {
      "text/plain": "<IPython.core.display.HTML object>",
      "text/html": "<h3>Training Data</h3>"
     },
     "metadata": {}
    },
    {
     "output_type": "display_data",
     "data": {
      "text/plain": "<IPython.core.display.HTML object>",
      "text/html": "<h4>Article Length</h4>"
     },
     "metadata": {}
    },
    {
     "output_type": "display_data",
     "data": {
      "text/plain": "<IPython.core.display.HTML object>",
      "text/html": "<table border=\"1\" class=\"dataframe\">\n  <thead>\n    <tr style=\"text-align: right;\">\n      <th></th>\n      <th>content</th>\n      <th>simple_clean</th>\n      <th>stopwords_clean</th>\n      <th>lemming_clean</th>\n    </tr>\n  </thead>\n  <tbody>\n    <tr>\n      <th>count</th>\n      <td>113969.00</td>\n      <td>113969.00</td>\n      <td>113969.00</td>\n      <td>113969.00</td>\n    </tr>\n    <tr>\n      <th>mean</th>\n      <td>728.93</td>\n      <td>379.59</td>\n      <td>379.49</td>\n      <td>379.49</td>\n    </tr>\n    <tr>\n      <th>std</th>\n      <td>745.96</td>\n      <td>373.20</td>\n      <td>373.02</td>\n      <td>373.02</td>\n    </tr>\n    <tr>\n      <th>min</th>\n      <td>1.00</td>\n      <td>1.00</td>\n      <td>1.00</td>\n      <td>1.00</td>\n    </tr>\n    <tr>\n      <th>25%</th>\n      <td>334.00</td>\n      <td>177.00</td>\n      <td>177.00</td>\n      <td>177.00</td>\n    </tr>\n    <tr>\n      <th>50%</th>\n      <td>582.00</td>\n      <td>306.00</td>\n      <td>306.00</td>\n      <td>306.00</td>\n    </tr>\n    <tr>\n      <th>75%</th>\n      <td>907.00</td>\n      <td>477.00</td>\n      <td>476.00</td>\n      <td>476.00</td>\n    </tr>\n    <tr>\n      <th>max</th>\n      <td>49707.00</td>\n      <td>22792.00</td>\n      <td>22735.00</td>\n      <td>22735.00</td>\n    </tr>\n  </tbody>\n</table>"
     },
     "metadata": {}
    },
    {
     "output_type": "display_data",
     "data": {
      "text/plain": "<IPython.core.display.HTML object>",
      "text/html": "<h4>Word Counts</h4>"
     },
     "metadata": {}
    },
    {
     "output_type": "display_data",
     "data": {
      "text/plain": "<IPython.core.display.HTML object>",
      "text/html": "<table border=\"1\" class=\"dataframe\">\n  <thead>\n    <tr style=\"text-align: right;\">\n      <th></th>\n      <th>content</th>\n      <th>simple_clean</th>\n      <th>stopwords_clean</th>\n      <th>lemming_clean</th>\n    </tr>\n  </thead>\n  <tbody>\n    <tr>\n      <th>Unique Words</th>\n      <td>199590</td>\n      <td>194035</td>\n      <td>193045</td>\n      <td>193045</td>\n    </tr>\n    <tr>\n      <th>Total Words</th>\n      <td>83075100</td>\n      <td>43261496</td>\n      <td>43250321</td>\n      <td>43250321</td>\n    </tr>\n  </tbody>\n</table>"
     },
     "metadata": {}
    }
   ],
   "source": [
    "d(\"<h3>Training Data</h3>\")\n",
    "frames = []\n",
    "for col in text_cols:\n",
    "    frames.append(frame_storage['X_train'][col]['Word Length'])\n",
    "train_length = pd.concat(frames,axis=1,sort=False)\n",
    "d(f'<h4>Article Length</h4>')\n",
    "d(train_length.to_html())\n",
    "train_word_counts = {}\n",
    "name = 'X_train'\n",
    "for col in text_cols:\n",
    "    train_word_counts[col] = {}\n",
    "    train_word_counts[col]['Unique Words'] = frame_storage[name][col]['Unique Words'] \n",
    "    train_word_counts[col]['Total Words'] = frame_storage[name][col]['Total Words']\n",
    "train_word_counts = pd.DataFrame(train_word_counts)\n",
    "d(f'<h4>Word Counts</h4>')\n",
    "d(train_word_counts.to_html())"
   ]
  },
  {
   "cell_type": "markdown",
   "metadata": {},
   "source": [
    "### Test"
   ]
  },
  {
   "cell_type": "code",
   "execution_count": 22,
   "metadata": {},
   "outputs": [
    {
     "output_type": "display_data",
     "data": {
      "text/plain": "<IPython.core.display.HTML object>",
      "text/html": "<h3>Test Data</h3>"
     },
     "metadata": {}
    },
    {
     "output_type": "display_data",
     "data": {
      "text/plain": "<IPython.core.display.HTML object>",
      "text/html": "<h4>Article Length</h4>"
     },
     "metadata": {}
    },
    {
     "output_type": "display_data",
     "data": {
      "text/plain": "<IPython.core.display.HTML object>",
      "text/html": "<table border=\"1\" class=\"dataframe\">\n  <thead>\n    <tr style=\"text-align: right;\">\n      <th></th>\n      <th>content</th>\n      <th>simple_clean</th>\n      <th>stopwords_clean</th>\n      <th>lemming_clean</th>\n    </tr>\n  </thead>\n  <tbody>\n    <tr>\n      <th>count</th>\n      <td>28493.00</td>\n      <td>28493.00</td>\n      <td>28493.00</td>\n      <td>28493.00</td>\n    </tr>\n    <tr>\n      <th>mean</th>\n      <td>731.07</td>\n      <td>380.45</td>\n      <td>380.35</td>\n      <td>380.35</td>\n    </tr>\n    <tr>\n      <th>std</th>\n      <td>722.41</td>\n      <td>363.30</td>\n      <td>363.13</td>\n      <td>363.13</td>\n    </tr>\n    <tr>\n      <th>min</th>\n      <td>1.00</td>\n      <td>1.00</td>\n      <td>1.00</td>\n      <td>1.00</td>\n    </tr>\n    <tr>\n      <th>25%</th>\n      <td>337.00</td>\n      <td>178.00</td>\n      <td>178.00</td>\n      <td>178.00</td>\n    </tr>\n    <tr>\n      <th>50%</th>\n      <td>585.00</td>\n      <td>308.00</td>\n      <td>307.00</td>\n      <td>307.00</td>\n    </tr>\n    <tr>\n      <th>75%</th>\n      <td>908.00</td>\n      <td>476.00</td>\n      <td>476.00</td>\n      <td>476.00</td>\n    </tr>\n    <tr>\n      <th>max</th>\n      <td>28344.00</td>\n      <td>13233.00</td>\n      <td>13220.00</td>\n      <td>13220.00</td>\n    </tr>\n  </tbody>\n</table>"
     },
     "metadata": {}
    },
    {
     "output_type": "display_data",
     "data": {
      "text/plain": "<IPython.core.display.HTML object>",
      "text/html": "<h4>Word Counts</h4>"
     },
     "metadata": {}
    },
    {
     "output_type": "display_data",
     "data": {
      "text/plain": "<IPython.core.display.HTML object>",
      "text/html": "<table border=\"1\" class=\"dataframe\">\n  <thead>\n    <tr style=\"text-align: right;\">\n      <th></th>\n      <th>content</th>\n      <th>simple_clean</th>\n      <th>stopwords_clean</th>\n      <th>lemming_clean</th>\n    </tr>\n  </thead>\n  <tbody>\n    <tr>\n      <th>Unique Words</th>\n      <td>187994</td>\n      <td>137993</td>\n      <td>131746</td>\n      <td>131746</td>\n    </tr>\n    <tr>\n      <th>Total Words</th>\n      <td>20830268</td>\n      <td>10840061</td>\n      <td>10837250</td>\n      <td>10837250</td>\n    </tr>\n  </tbody>\n</table>"
     },
     "metadata": {}
    }
   ],
   "source": [
    "d(\"<h3>Test Data</h3>\")\n",
    "frames = []\n",
    "for col in text_cols:\n",
    "    frames.append(frame_storage['X_test'][col]['Word Length'])\n",
    "test_length = pd.concat(frames,axis=1,sort=False)\n",
    "d(f'<h4>Article Length</h4>')\n",
    "d(test_length.to_html())\n",
    "test_word_counts = {}\n",
    "name = 'X_test'\n",
    "for col in text_cols:\n",
    "    test_word_counts[col] = {}\n",
    "    test_word_counts[col]['Unique Words'] = frame_storage[name][col]['Unique Words'] \n",
    "    test_word_counts[col]['Total Words'] = frame_storage[name][col]['Total Words']\n",
    "test_word_counts = pd.DataFrame(test_word_counts)\n",
    "d(f'<h4>Word Counts</h4>')\n",
    "d(test_word_counts.to_html())"
   ]
  },
  {
   "cell_type": "markdown",
   "metadata": {},
   "source": [
    "## Padding Input Vector"
   ]
  },
  {
   "cell_type": "code",
   "execution_count": 23,
   "metadata": {},
   "outputs": [],
   "source": [
    "padded_train = {}\n",
    "padded_test = {}\n",
    "padding = { 'content': 700,\n",
    "            'simple_clean': 350,\n",
    "            'stopwords_clean': 350,\n",
    "            'lemming_clean': 350}"
   ]
  },
  {
   "cell_type": "code",
   "execution_count": 24,
   "metadata": {},
   "outputs": [],
   "source": [
    "for col in text_cols:\n",
    "    padded_train_data = tf.keras.preprocessing.sequence.pad_sequences(X_train[col], padding='post',maxlen=padding[col])\n",
    "    padded_test_data = tf.keras.preprocessing.sequence.pad_sequences(X_test[col], padding='post',maxlen=padding[col])\n",
    "    padded_train[col] = padded_train_data\n",
    "    padded_test[col] = padded_test_data"
   ]
  },
  {
   "source": [
    "## Saving Padded and Vectorized Data"
   ],
   "cell_type": "markdown",
   "metadata": {}
  },
  {
   "cell_type": "code",
   "execution_count": 26,
   "metadata": {},
   "outputs": [],
   "source": [
    "padded_train_folder = os.path.join(padded_folder,'train')\n",
    "padded_test_folder = os.path.join(padded_folder,'test')\n",
    "if os.path.isdir(padded_train_folder) == False:\n",
    "    os.mkdir(padded_train_folder)\n",
    "if os.path.isdir(padded_test_folder) == False:\n",
    "    os.mkdir(padded_test_folder)"
   ]
  },
  {
   "cell_type": "code",
   "execution_count": 29,
   "metadata": {},
   "outputs": [],
   "source": [
    "for k,v in padded_train.items():\n",
    "    fn = os.path.join(padded_train_folder,k+\"_train_padded.npy\")\n",
    "    if os.path.isfile(fn):\n",
    "        os.remove(fn)\n",
    "    with open(fn, 'wb') as f:\n",
    "        np.save(f,v)\n",
    "        np.save(f,y_train)"
   ]
  },
  {
   "cell_type": "code",
   "execution_count": 30,
   "metadata": {},
   "outputs": [],
   "source": [
    "for k,v in padded_test.items():\n",
    "    fn = os.path.join(padded_test_folder,k+\"_test_padded.npy\")\n",
    "    if os.path.isfile(fn):\n",
    "        os.remove(fn)\n",
    "    with open(fn, 'wb') as f:\n",
    "        np.save(f,v)\n",
    "        np.save(f,y_test)"
   ]
  }
 ],
 "metadata": {
  "kernelspec": {
   "display_name": "Python 3.8.2 64-bit",
   "language": "python",
   "name": "python38264bit10acd81da64845c583c0508b7d44a386"
  },
  "language_info": {
   "codemirror_mode": {
    "name": "ipython",
    "version": 3
   },
   "file_extension": ".py",
   "mimetype": "text/x-python",
   "name": "python",
   "nbconvert_exporter": "python",
   "pygments_lexer": "ipython3",
   "version": "3.8.2-final"
  }
 },
 "nbformat": 4,
 "nbformat_minor": 4
}